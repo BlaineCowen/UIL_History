{
 "cells": [
  {
   "cell_type": "code",
   "execution_count": 1,
   "metadata": {},
   "outputs": [],
   "source": [
    "import pandas as pd\n",
    "import numpy as np\n",
    "import sqlite3\n",
    "import matplotlib.pyplot as plt\n",
    "import seaborn as sns\n",
    "sns.set(style=\"whitegrid\")"
   ]
  },
  {
   "cell_type": "code",
   "execution_count": 2,
   "metadata": {},
   "outputs": [
    {
     "name": "stderr",
     "output_type": "stream",
     "text": [
      "/Users/blainecowen/opt/anaconda3/lib/python3.9/site-packages/IPython/core/interactiveshell.py:3444: DtypeWarning: Columns (4) have mixed types.Specify dtype option on import or set low_memory=False.\n",
      "  exec(code_obj, self.user_global_ns, self.user_ns)\n"
     ]
    }
   ],
   "source": [
    "#read uil db\n",
    "df = pd.read_csv('all_results_with_codes.csv', encoding='latin-1')\n",
    "\n",
    "df['Classification'] = df['Classification'].str.lower()\n",
    "df['Conference'] = df['Conference'].str.upper()\n",
    "\n",
    "# in the conference column, replace values such as 'AAAAAA' as '6A'\n",
    "df['Conference'] = df['Conference'].str.replace('AAAAAA', '6A')\n",
    "df['Conference'] = df['Conference'].str.replace('AAAAA', '5A')\n",
    "df['Conference'] = df['Conference'].str.replace('AAAA', '4A')\n",
    "df['Conference'] = df['Conference'].str.replace('AAA', '3A')\n",
    "df['Conference'] = df['Conference'].str.replace('AA', '2A')\n",
    "df['Conference'] = df['Conference'].str.replace('CCC', '3C')\n",
    "df['Conference'] = df['Conference'].str.replace('CC', '2C')\n",
    "df['Conference'] = df['Conference'].str.replace('BBBBBB', '6B')\n",
    "df['Conference'] = df['Conference'].str.replace('BBBBB', '5B')\n",
    "df['Conference'] = df['Conference'].str.replace('BBBB', '4B')\n",
    "df['Conference'] = df['Conference'].str.replace('BBB', '3B')\n",
    "df['Conference'] = df['Conference'].str.replace('BB', '2B')\n",
    "df['Conference'] = df['Conference'].str.replace('3C B', '3C')\n"
   ]
  },
  {
   "cell_type": "code",
   "execution_count": 3,
   "metadata": {},
   "outputs": [
    {
     "name": "stdout",
     "output_type": "stream",
     "text": [
      "     Conference              Event  Year   Classification  \\\n",
      "0            2A   931-Mixed Chorus  2005         combined   \n",
      "1            2A   931-Mixed Chorus  2005      non-varsity   \n",
      "2            2A   931-Mixed Chorus  2006         combined   \n",
      "3            2A   931-Mixed Chorus  2006      non-varsity   \n",
      "4            2A   931-Mixed Chorus  2006          varsity   \n",
      "...         ...                ...   ...              ...   \n",
      "1256          C  935-Treble Chorus  2021   nvar-composite   \n",
      "1257          C  935-Treble Chorus  2021  sub non-varsity   \n",
      "1258          C  935-Treble Chorus  2021          varsity   \n",
      "1259          C  935-Treble Chorus  2022      non-varsity   \n",
      "1260          C  935-Treble Chorus  2022          varsity   \n",
      "\n",
      "      Sight Reading Average  \n",
      "0                  2.670000  \n",
      "1                  3.670000  \n",
      "2                  2.000000  \n",
      "3                  1.330000  \n",
      "4                  2.232000  \n",
      "...                     ...  \n",
      "1256               1.670000  \n",
      "1257               1.000000  \n",
      "1258               1.110000  \n",
      "1259               1.600667  \n",
      "1260               1.000000  \n",
      "\n",
      "[1261 rows x 5 columns]\n"
     ]
    }
   ],
   "source": [
    "# group the sightreading average by conference, event, and year\n",
    "df_avg_SR = df.groupby(['Conference', 'Event','Year','Classification'])['Sight Reading Average'].mean().reset_index()\n",
    "print(df_avg_SR)\n",
    "# save to csv\n",
    "df_avg_SR.to_csv('avg_SR.csv', index=False)"
   ]
  },
  {
   "cell_type": "code",
   "execution_count": 4,
   "metadata": {},
   "outputs": [
    {
     "name": "stdout",
     "output_type": "stream",
     "text": [
      "   Conference  Sight Reading Average  Count\n",
      "0          2A               2.266431    325\n",
      "1          2B               1.627353     34\n",
      "2          2C               1.820007  12039\n",
      "3          3A               2.134249   1384\n",
      "4          3B               1.518694    643\n",
      "5          3C               1.569952  12676\n",
      "6          4A               1.845203   5137\n",
      "7          5A               1.535466  11109\n",
      "8          6A               1.329693   6059\n",
      "9           A               2.311111     45\n",
      "11          C               2.080224    581\n"
     ]
    },
    {
     "data": {
      "image/png": "[encoded data removed]",
      "text/plain": [
       "<Figure size 432x288 with 1 Axes>"
      ]
     },
     "metadata": {},
     "output_type": "display_data"
    }
   ],
   "source": [
    "# group the sightreading average by conference, event, and year\n",
    "df_avg_SR = df.groupby(['Conference'])['Sight Reading Average'].mean().reset_index()\n",
    "# add a count column\n",
    "df_avg_SR['Count'] = df.groupby(['Conference'])['Sight Reading Average'].count().reset_index()['Sight Reading Average']\n",
    "# get rid of conferences with less than 20 entries\n",
    "df_avg_SR = df_avg_SR[df_avg_SR['Count'] > 20]\n",
    "print(df_avg_SR)\n",
    "\n",
    "\n",
    "# graph the average sightreading score by conference\n",
    "import matplotlib.pyplot as plt\n",
    "import seaborn as sns\n",
    "sns.set(style=\"whitegrid\")\n",
    "ax = sns.barplot(x=\"Conference\", y=\"Sight Reading Average\", data=df_avg_SR)\n",
    "plt.show()\n",
    "\n",
    "\n"
   ]
  },
  {
   "cell_type": "code",
   "execution_count": 5,
   "metadata": {},
   "outputs": [
    {
     "name": "stdout",
     "output_type": "stream",
     "text": [
      "    Conference  Year              Event  Sight Reading Average\n",
      "414        top  2005  935-Treble Chorus               1.641069\n",
      "417        top  2006  935-Treble Chorus               1.633855\n",
      "420        top  2007  935-Treble Chorus               1.505573\n",
      "423        top  2008  935-Treble Chorus               1.595298\n",
      "426        top  2009  935-Treble Chorus               1.676991\n",
      "429        top  2010  935-Treble Chorus               1.468967\n",
      "432        top  2011  935-Treble Chorus               1.528811\n",
      "435        top  2012  935-Treble Chorus               1.339372\n",
      "438        top  2013  935-Treble Chorus               1.519287\n",
      "441        top  2014  935-Treble Chorus               1.311737\n",
      "444        top  2015  935-Treble Chorus               1.459347\n",
      "447        top  2016  935-Treble Chorus               1.469024\n",
      "450        top  2017  935-Treble Chorus               1.446975\n",
      "453        top  2018  935-Treble Chorus               1.488314\n",
      "456        top  2019  935-Treble Chorus               1.315269\n",
      "459        top  2020  935-Treble Chorus               1.269038\n",
      "462        top  2021  935-Treble Chorus               1.167247\n",
      "465        top  2022  935-Treble Chorus               1.200882\n"
     ]
    },
    {
     "data": {
      "image/png": "[encoded data removed]",
      "text/plain": [
       "<Figure size 432x288 with 1 Axes>"
      ]
     },
     "metadata": {},
     "output_type": "display_data"
    }
   ],
   "source": [
    "# group the sightreading average by top, and year\n",
    "# df['Conference'] = df['Conference'].str.replace('5A', 'top')\n",
    "# df['Conference'] = df['Conference'].str.replace('6A', 'top')\n",
    "df_avg_SR = df.groupby(['Conference','Year', \"Event\"])['Sight Reading Average'].mean().reset_index()\n",
    "\n",
    "df_avg_SR = df_avg_SR[df_avg_SR['Conference'] == 'top']\n",
    "\n",
    "# filter out only event contains word tenor\n",
    "df_avg_SR = df_avg_SR[df_avg_SR['Event'].str.contains('Treble')]\n",
    "\n",
    "print(df_avg_SR)\n",
    "\n",
    "# graph the average sightreading score by conference\n",
    "import matplotlib.pyplot as plt\n",
    "import seaborn as sns\n",
    "sns.set(style=\"whitegrid\")\n",
    "ax = sns.barplot(x=\"Year\", y=\"Sight Reading Average\", data=df_avg_SR)\n",
    "\n",
    "# make the x axis labels vertical\n",
    "plt.xticks(rotation=90)\n",
    "\n",
    "# set y axis to 1.0-1.5\n",
    "plt.ylim(1.0, 1.7)\n",
    "\n",
    "\n",
    "plt.show()\n",
    "\n",
    "\n",
    "\n",
    "\n",
    "\n"
   ]
  }
 ],
 "metadata": {
  "kernelspec": {
   "display_name": "base",
   "language": "python",
   "name": "python3"
  },
  "language_info": {
   "codemirror_mode": {
    "name": "ipython",
    "version": 3
   },
   "file_extension": ".py",
   "mimetype": "text/x-python",
   "name": "python",
   "nbconvert_exporter": "python",
   "pygments_lexer": "ipython3",
   "version": "3.9.7"
  },
  "orig_nbformat": 4,
  "vscode": {
   "interpreter": {
    "hash": "ad49dc717b0475718ddf9f9b3dcaaf5a04d852c5846e7275137ef3bef80ae9c4"
   }
  }
 },
 "nbformat": 4,
 "nbformat_minor": 2
}
